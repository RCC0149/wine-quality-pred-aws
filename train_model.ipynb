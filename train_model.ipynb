{
 "cells": [
  {
   "cell_type": "code",
   "execution_count": null,
   "id": "11beef08-fedd-4c8b-b160-42f1a96cbb4e",
   "metadata": {},
   "outputs": [],
   "source": [
    "import os\n",
    "os.environ['AWS_ACCESS_KEY_ID'] = ''\n",
    "os.environ['AWS_SECRET_ACCESS_KEY'] = ''\n",
    "os.environ['AWS_DEFAULT_REGION'] = 'us-east-2'  # Adjust to your bucket region"
   ]
  },
  {
   "cell_type": "code",
   "execution_count": 2,
   "id": "09fef238-daf5-4789-98ee-774ec8b15a06",
   "metadata": {},
   "outputs": [
    {
     "name": "stdout",
     "output_type": "stream",
     "text": [
      "Requirement already satisfied: flask==2.3.3 in /home/studio-lab-user/.conda/envs/default/lib/python3.9/site-packages (from -r requirements.txt (line 1)) (2.3.3)\n",
      "Requirement already satisfied: gunicorn==21.2.0 in /home/studio-lab-user/.conda/envs/default/lib/python3.9/site-packages (from -r requirements.txt (line 2)) (21.2.0)\n",
      "Requirement already satisfied: joblib==1.3.2 in /home/studio-lab-user/.conda/envs/default/lib/python3.9/site-packages (from -r requirements.txt (line 3)) (1.3.2)\n",
      "Requirement already satisfied: numpy==1.26.4 in /home/studio-lab-user/.conda/envs/default/lib/python3.9/site-packages (from -r requirements.txt (line 4)) (1.26.4)\n",
      "Requirement already satisfied: scikit-learn==1.3.2 in /home/studio-lab-user/.conda/envs/default/lib/python3.9/site-packages (from -r requirements.txt (line 5)) (1.3.2)\n",
      "Requirement already satisfied: pandas==2.0.3 in /home/studio-lab-user/.conda/envs/default/lib/python3.9/site-packages (from -r requirements.txt (line 6)) (2.0.3)\n",
      "Requirement already satisfied: boto3==1.34.0 in /home/studio-lab-user/.conda/envs/default/lib/python3.9/site-packages (from -r requirements.txt (line 7)) (1.34.0)\n",
      "Requirement already satisfied: Werkzeug>=2.3.7 in /home/studio-lab-user/.conda/envs/default/lib/python3.9/site-packages (from flask==2.3.3->-r requirements.txt (line 1)) (3.1.3)\n",
      "Requirement already satisfied: Jinja2>=3.1.2 in /home/studio-lab-user/.conda/envs/default/lib/python3.9/site-packages (from flask==2.3.3->-r requirements.txt (line 1)) (3.1.6)\n",
      "Requirement already satisfied: itsdangerous>=2.1.2 in /home/studio-lab-user/.conda/envs/default/lib/python3.9/site-packages (from flask==2.3.3->-r requirements.txt (line 1)) (2.2.0)\n",
      "Requirement already satisfied: click>=8.1.3 in /home/studio-lab-user/.conda/envs/default/lib/python3.9/site-packages (from flask==2.3.3->-r requirements.txt (line 1)) (8.1.8)\n",
      "Requirement already satisfied: blinker>=1.6.2 in /home/studio-lab-user/.conda/envs/default/lib/python3.9/site-packages (from flask==2.3.3->-r requirements.txt (line 1)) (1.9.0)\n",
      "Requirement already satisfied: importlib-metadata>=3.6.0 in /home/studio-lab-user/.conda/envs/default/lib/python3.9/site-packages (from flask==2.3.3->-r requirements.txt (line 1)) (8.7.0)\n",
      "Requirement already satisfied: packaging in /home/studio-lab-user/.conda/envs/default/lib/python3.9/site-packages (from gunicorn==21.2.0->-r requirements.txt (line 2)) (25.0)\n",
      "Requirement already satisfied: scipy>=1.5.0 in /home/studio-lab-user/.conda/envs/default/lib/python3.9/site-packages (from scikit-learn==1.3.2->-r requirements.txt (line 5)) (1.13.1)\n",
      "Requirement already satisfied: threadpoolctl>=2.0.0 in /home/studio-lab-user/.conda/envs/default/lib/python3.9/site-packages (from scikit-learn==1.3.2->-r requirements.txt (line 5)) (3.6.0)\n",
      "Requirement already satisfied: python-dateutil>=2.8.2 in /home/studio-lab-user/.conda/envs/default/lib/python3.9/site-packages (from pandas==2.0.3->-r requirements.txt (line 6)) (2.9.0.post0)\n",
      "Requirement already satisfied: pytz>=2020.1 in /home/studio-lab-user/.conda/envs/default/lib/python3.9/site-packages (from pandas==2.0.3->-r requirements.txt (line 6)) (2025.2)\n",
      "Requirement already satisfied: tzdata>=2022.1 in /home/studio-lab-user/.conda/envs/default/lib/python3.9/site-packages (from pandas==2.0.3->-r requirements.txt (line 6)) (2025.2)\n",
      "Requirement already satisfied: botocore<1.35.0,>=1.34.0 in /home/studio-lab-user/.conda/envs/default/lib/python3.9/site-packages (from boto3==1.34.0->-r requirements.txt (line 7)) (1.34.162)\n",
      "Requirement already satisfied: jmespath<2.0.0,>=0.7.1 in /home/studio-lab-user/.conda/envs/default/lib/python3.9/site-packages (from boto3==1.34.0->-r requirements.txt (line 7)) (1.0.1)\n",
      "Requirement already satisfied: s3transfer<0.10.0,>=0.9.0 in /home/studio-lab-user/.conda/envs/default/lib/python3.9/site-packages (from boto3==1.34.0->-r requirements.txt (line 7)) (0.9.0)\n",
      "Requirement already satisfied: urllib3<1.27,>=1.25.4 in /home/studio-lab-user/.conda/envs/default/lib/python3.9/site-packages (from botocore<1.35.0,>=1.34.0->boto3==1.34.0->-r requirements.txt (line 7)) (1.26.20)\n",
      "Requirement already satisfied: six>=1.5 in /home/studio-lab-user/.conda/envs/default/lib/python3.9/site-packages (from python-dateutil>=2.8.2->pandas==2.0.3->-r requirements.txt (line 6)) (1.17.0)\n",
      "Requirement already satisfied: zipp>=3.20 in /home/studio-lab-user/.conda/envs/default/lib/python3.9/site-packages (from importlib-metadata>=3.6.0->flask==2.3.3->-r requirements.txt (line 1)) (3.23.0)\n",
      "Requirement already satisfied: MarkupSafe>=2.0 in /home/studio-lab-user/.conda/envs/default/lib/python3.9/site-packages (from Jinja2>=3.1.2->flask==2.3.3->-r requirements.txt (line 1)) (3.0.2)\n"
     ]
    }
   ],
   "source": [
    "!pip install -r requirements.txt"
   ]
  },
  {
   "cell_type": "code",
   "execution_count": 4,
   "id": "2eb4bf5b",
   "metadata": {},
   "outputs": [
    {
     "name": "stdout",
     "output_type": "stream",
     "text": [
      "Test MSE: 0.5467\n",
      "Test R²: 0.2598\n"
     ]
    },
    {
     "data": {
      "text/plain": [
       "['scaler.pkl']"
      ]
     },
     "execution_count": 4,
     "metadata": {},
     "output_type": "execute_result"
    }
   ],
   "source": [
    "import pandas as pd\n",
    "import boto3\n",
    "from sklearn.model_selection import train_test_split\n",
    "from sklearn.linear_model import LinearRegression\n",
    "from sklearn.metrics import mean_squared_error, r2_score\n",
    "from sklearn.preprocessing import StandardScaler\n",
    "import joblib\n",
    "\n",
    "# Initialize S3 client\n",
    "s3 = boto3.client('s3')\n",
    "\n",
    "# Download CSV files from S3 to local storage\n",
    "bucket_name = 'wine-quality-data-rcc'\n",
    "s3.download_file(bucket_name, 'winequality-red.csv', 'winequality-red.csv')\n",
    "s3.download_file(bucket_name, 'winequality-white.csv', 'winequality-white.csv')\n",
    "\n",
    "# Load and concatenate both CSV files\n",
    "red_df = pd.read_csv('winequality-red.csv', sep=';')\n",
    "white_df = pd.read_csv('winequality-white.csv', sep=';')\n",
    "df = pd.concat([red_df, white_df], ignore_index=True)\n",
    "\n",
    "# Preprocess\n",
    "X = df.drop('quality', axis=1)\n",
    "y = df['quality']\n",
    "X_train, X_test, y_train, y_test = train_test_split(X, y, test_size=0.2, random_state=42)\n",
    "scaler = StandardScaler()\n",
    "X_train_scaled = scaler.fit_transform(X_train)\n",
    "X_test_scaled = scaler.transform(X_test)\n",
    "\n",
    "# Train linear regression\n",
    "model = LinearRegression()\n",
    "model.fit(X_train_scaled, y_train)\n",
    "\n",
    "# Evaluate\n",
    "y_pred = model.predict(X_test_scaled)\n",
    "mse = mean_squared_error(y_test, y_pred)\n",
    "r2 = r2_score(y_test, y_pred)\n",
    "print(f'Test MSE: {mse:.4f}')\n",
    "print(f'Test R²: {r2:.4f}')\n",
    "\n",
    "# Save model and scaler\n",
    "joblib.dump(model, 'wine_model.pkl')\n",
    "joblib.dump(scaler, 'scaler.pkl')"
   ]
  },
  {
   "cell_type": "code",
   "execution_count": 5,
   "id": "23f7c027-a7ad-4145-9f45-631ab5940887",
   "metadata": {},
   "outputs": [
    {
     "name": "stdout",
     "output_type": "stream",
     "text": [
      "Flask app started locally (check logs for errors)\n",
      "Errors: \u001b[31m\u001b[1mWARNING: This is a development server. Do not use it in a production deployment. Use a production WSGI server instead.\u001b[0m\n",
      " * Running on all addresses (0.0.0.0)\n",
      " * Running on http://127.0.0.1:5000\n",
      " * Running on http://169.254.255.2:5000\n",
      "\u001b[33mPress CTRL+C to quit\u001b[0m\n",
      "\n"
     ]
    }
   ],
   "source": [
    "# Optional: Test Flask app locally (for evidence)\n",
    "import subprocess\n",
    "import time\n",
    "process = subprocess.Popen(['python3', 'app.py'], stdout=subprocess.PIPE, stderr=subprocess.PIPE)\n",
    "time.sleep(2)\n",
    "print(\"Flask app started locally (check logs for errors)\")\n",
    "time.sleep(10)\n",
    "process.terminate()\n",
    "stdout, stderr = process.communicate()\n",
    "if stderr:\n",
    "    print(f\"Errors: {stderr.decode()}\")\n",
    "else:\n",
    "    print(\"No errors detected\")\n",
    "\n",
    "# Clear environment variables for security\n",
    "del os.environ['AWS_ACCESS_KEY_ID']\n",
    "del os.environ['AWS_SECRET_ACCESS_KEY']"
   ]
  }
 ],
 "metadata": {
  "kernelspec": {
   "display_name": "default:Python",
   "language": "python",
   "name": "conda-env-default-py"
  },
  "language_info": {
   "codemirror_mode": {
    "name": "ipython",
    "version": 3
   },
   "file_extension": ".py",
   "mimetype": "text/x-python",
   "name": "python",
   "nbconvert_exporter": "python",
   "pygments_lexer": "ipython3",
   "version": "3.9.23"
  }
 },
 "nbformat": 4,
 "nbformat_minor": 5
}
